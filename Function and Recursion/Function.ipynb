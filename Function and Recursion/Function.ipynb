{
 "cells": [
  {
   "cell_type": "markdown",
   "metadata": {},
   "source": [
    "# Tugas Implementasi Fungsi dan Rekursi \n",
    "by Wayan Raditya Putra \n",
    "* NRP : 5054241029\n",
    "* Prodi RKA "
   ]
  },
  {
   "cell_type": "markdown",
   "metadata": {},
   "source": [
    "Parameter dan Argumen dalam Function\n"
   ]
  },
  {
   "cell_type": "code",
   "execution_count": 1,
   "metadata": {},
   "outputs": [
    {
     "name": "stdout",
     "output_type": "stream",
     "text": [
      "4\n"
     ]
    }
   ],
   "source": [
    "#Function dengan satu argumen dan parameter\n",
    "def pangkatdua(A):\n",
    "    return A ** 2\n",
    "A = int(input())\n",
    "print(pangkatdua(A))"
   ]
  },
  {
   "cell_type": "code",
   "execution_count": 10,
   "metadata": {},
   "outputs": [
    {
     "name": "stdout",
     "output_type": "stream",
     "text": [
      "81\n"
     ]
    }
   ],
   "source": [
    "#Function dengan dua argumen \n",
    "def hitungpangkat(angka, pangkat):\n",
    "    return angka ** pangkat\n",
    "a, b = map(int,input().split())\n",
    "print(hitungpangkat(a, b))"
   ]
  },
  {
   "cell_type": "markdown",
   "metadata": {},
   "source": [
    "Arbitary Argumen (*args)\n",
    "* Argumen yang dimasukan dalam fungsi akan dianggap sebagai tuple atau list"
   ]
  },
  {
   "cell_type": "code",
   "execution_count": 7,
   "metadata": {},
   "outputs": [
    {
     "name": "stdout",
     "output_type": "stream",
     "text": [
      "Tidak ada orang yang duduk di tengah\n"
     ]
    }
   ],
   "source": [
    "#Function untuk menentukan siapa yang duduk di tengah \n",
    "def tengahtengah(*orang):\n",
    "    if len(orang) % 2 == 1:\n",
    "        print(orang[((len(orang) // 2))])\n",
    "    else:\n",
    "        print(\"Tidak ada orang yang duduk di tengah\")\n",
    "\n",
    "tengahtengah(\"Rudi\", \"Emir\",  \"Nugi\", \"Ganesh\")\n",
    "\n"
   ]
  },
  {
   "cell_type": "markdown",
   "metadata": {},
   "source": [
    "Function dengan key = value syntax"
   ]
  },
  {
   "cell_type": "code",
   "execution_count": 9,
   "metadata": {},
   "outputs": [
    {
     "name": "stdout",
     "output_type": "stream",
     "text": [
      "Budi,Algi,Doni telah mati ditembak AK-47\n"
     ]
    }
   ],
   "source": [
    "#Function dengan key = value syntax:\n",
    "def siapamati(napi1, napi2, napi3):\n",
    "    print(f'{napi1},{napi2},{napi3} telah mati ditembak AK-47')\n",
    "\n",
    "siapamati(napi1 = \"Budi\", napi3 = \"Doni\", napi2 = \"Algi\" )\n"
   ]
  },
  {
   "cell_type": "markdown",
   "metadata": {},
   "source": [
    "Arbitrary Keyword Arguments (**kwargs)"
   ]
  },
  {
   "cell_type": "code",
   "execution_count": 15,
   "metadata": {},
   "outputs": [
    {
     "name": "stdout",
     "output_type": "stream",
     "text": [
      "Murid-murid yang lulus ETS Dasar Pemograman (KKM 75) adalah : \n",
      "Budi\n",
      "Ahmad\n",
      "Dika\n"
     ]
    }
   ],
   "source": [
    "def siapalulus(**nilaimurid):\n",
    "    simpan = []\n",
    "    for key, values in nilaimurid.items():\n",
    "        if values >= 75:\n",
    "            simpan.append(key)\n",
    "    \n",
    "    print(f'Murid-murid yang lulus ETS Dasar Pemograman (KKM 75) adalah : ')\n",
    "    for murid in simpan:\n",
    "        print(murid)\n",
    "\n",
    "siapalulus(Budi = 75, Geri = 45, Ahmad = 100, Dika = 89, Butet = 0)"
   ]
  },
  {
   "cell_type": "markdown",
   "metadata": {},
   "source": [
    "Default Parameter Value"
   ]
  },
  {
   "cell_type": "code",
   "execution_count": 17,
   "metadata": {},
   "outputs": [
    {
     "name": "stdout",
     "output_type": "stream",
     "text": [
      "nilai Budi adalah 0 dan perlu 100 lagi untuk menuju kesempurnaan\n",
      "nilai Budi adalah 45 dan perlu 55 lagi untuk menuju kesempurnaan\n"
     ]
    }
   ],
   "source": [
    "def nilaibudi(nilai = 0):\n",
    "    print(f\"nilai Budi adalah {nilai} dan perlu {(100 - nilai)} lagi untuk menuju kesempurnaan\")\n",
    "\n",
    "nilaibudi() #function akan menganggap nilai budi adalah 0 karena tidak ada argumen baru yang dimasukan\n",
    "nilaibudi(45) #ada argumen baru yang dimasukan jadi nilai tidak dianggap default yaitu sama dengan nol\n",
    "\n"
   ]
  },
  {
   "cell_type": "markdown",
   "metadata": {},
   "source": [
    "Passing List as An Argument"
   ]
  },
  {
   "cell_type": "code",
   "execution_count": 22,
   "metadata": {},
   "outputs": [
    {
     "name": "stdout",
     "output_type": "stream",
     "text": [
      "Basdat\n",
      "Sisop\n",
      "Kalkulus\n"
     ]
    }
   ],
   "source": [
    "def matkulfavorit(matkul):\n",
    "  for x in matkul:\n",
    "    print(x)\n",
    "\n",
    "matkul = list(map(str,input().split(',')))\n",
    "\n",
    "matkulfavorit(matkul)\n"
   ]
  },
  {
   "cell_type": "markdown",
   "metadata": {},
   "source": [
    "Return Value"
   ]
  },
  {
   "cell_type": "code",
   "execution_count": 24,
   "metadata": {},
   "outputs": [
    {
     "name": "stdout",
     "output_type": "stream",
     "text": [
      "1\n"
     ]
    }
   ],
   "source": [
    "def sisabagi2(apel):\n",
    "  return apel % 2\n",
    "\n",
    "apel = int(input(\"Input jumlah apel :\"))\n",
    "print(sisabagi2(apel))"
   ]
  },
  {
   "cell_type": "markdown",
   "metadata": {},
   "source": [
    "The Pass Statement"
   ]
  },
  {
   "cell_type": "code",
   "execution_count": 1,
   "metadata": {},
   "outputs": [],
   "source": [
    "#Jika kita punya fungsi yang tidak ada isinya, agar tidak error, kita bisa menambahkan syntax pass di dalam functionya\n",
    "def dasprog():\n",
    "  pass"
   ]
  },
  {
   "cell_type": "markdown",
   "metadata": {},
   "source": [
    "Positional-Only Arguments"
   ]
  },
  {
   "cell_type": "code",
   "execution_count": 5,
   "metadata": {},
   "outputs": [
    {
     "name": "stdout",
     "output_type": "stream",
     "text": [
      "Indonesia\n"
     ]
    },
    {
     "ename": "TypeError",
     "evalue": "posisi() got some positional-only arguments passed as keyword arguments: 'x'",
     "output_type": "error",
     "traceback": [
      "\u001b[1;31m---------------------------------------------------------------------------\u001b[0m",
      "\u001b[1;31mTypeError\u001b[0m                                 Traceback (most recent call last)",
      "Cell \u001b[1;32mIn[5], line 6\u001b[0m\n\u001b[0;32m      3\u001b[0m   \u001b[38;5;28mprint\u001b[39m(x)\n\u001b[0;32m      5\u001b[0m posisi(\u001b[38;5;124m\"\u001b[39m\u001b[38;5;124mIndonesia\u001b[39m\u001b[38;5;124m\"\u001b[39m) \u001b[38;5;66;03m#Ini namanya positional argument\u001b[39;00m\n\u001b[1;32m----> 6\u001b[0m \u001b[43mposisi\u001b[49m\u001b[43m(\u001b[49m\u001b[43mx\u001b[49m\u001b[43m \u001b[49m\u001b[38;5;241;43m=\u001b[39;49m\u001b[43m \u001b[49m\u001b[38;5;124;43m'\u001b[39;49m\u001b[38;5;124;43mIndonesia\u001b[39;49m\u001b[38;5;124;43m'\u001b[39;49m\u001b[43m)\u001b[49m \u001b[38;5;66;03m#Ini namanya keyword argument, program akan error\u001b[39;00m\n",
      "\u001b[1;31mTypeError\u001b[0m: posisi() got some positional-only arguments passed as keyword arguments: 'x'"
     ]
    }
   ],
   "source": [
    "#tanda , / hanya menerima input argumen berupa positional argument\n",
    "def posisi(x, /):\n",
    "  print(x)\n",
    "\n",
    "posisi(\"Indonesia\") #Ini namanya positional argument\n",
    "posisi(x = 'Indonesia') #Ini namanya keyword argument, program akan error\n",
    "\n",
    "\n"
   ]
  },
  {
   "cell_type": "markdown",
   "metadata": {},
   "source": [
    "Keyword-Only Arguments"
   ]
  },
  {
   "cell_type": "code",
   "execution_count": 6,
   "metadata": {},
   "outputs": [
    {
     "name": "stdout",
     "output_type": "stream",
     "text": [
      "posisi saya sekarang di Indonesia\n"
     ]
    }
   ],
   "source": [
    "def posisi(*, x):\n",
    "    print(f\"posisi saya sekarang di {x}\")\n",
    "\n",
    "\n",
    "posisi(x = \"Indonesia\")\n",
    "posisi(\"Indonesia\") #Program akan error karena function di atas tidak menerima argumen positional"
   ]
  },
  {
   "cell_type": "markdown",
   "metadata": {},
   "source": [
    "Combine Positonal-Only dan Keyword-Only\n"
   ]
  },
  {
   "cell_type": "code",
   "execution_count": 8,
   "metadata": {},
   "outputs": [
    {
     "name": "stdout",
     "output_type": "stream",
     "text": [
      "posisi saya sekarang di Indonesia, Bali\n"
     ]
    }
   ],
   "source": [
    "def posisi(x , /,*, y):\n",
    "    print(f\"posisi saya sekarang di {x}, {y}\")\n",
    "\n",
    "\n",
    "posisi(\"Indonesia\", y = \"Bali\")"
   ]
  }
 ],
 "metadata": {
  "kernelspec": {
   "display_name": "Python 3",
   "language": "python",
   "name": "python3"
  },
  "language_info": {
   "codemirror_mode": {
    "name": "ipython",
    "version": 3
   },
   "file_extension": ".py",
   "mimetype": "text/x-python",
   "name": "python",
   "nbconvert_exporter": "python",
   "pygments_lexer": "ipython3",
   "version": "3.12.1"
  }
 },
 "nbformat": 4,
 "nbformat_minor": 2
}
